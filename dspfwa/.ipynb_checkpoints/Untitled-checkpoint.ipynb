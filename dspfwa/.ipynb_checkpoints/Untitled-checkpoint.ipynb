{
 "cells": [
  {
   "cell_type": "code",
   "execution_count": 11,
   "metadata": {},
   "outputs": [],
   "source": [
    "\"\"\"\n",
    "Dual Spatial Pyramid for exposing face warp artifacts in DeepFake videos (DSP-FWA)\n",
    "\"\"\"\n",
    "import torch\n",
    "import torch.nn.functional as F\n",
    "import cv2\n",
    "import os\n",
    "import dlib\n",
    "import numpy as np\n",
    "from py_utils.face_utils import lib\n",
    "from py_utils.vid_utils import proc_vid as pv\n",
    "from py_utils.DL.pytorch_utils.models.classifier import SPPNet\n",
    "\n",
    "sample_num = 10\n",
    "# Employ dlib to extract face area and landmark points\n",
    "pwd = os.path.dirname(os.path.abspath('dspfwa'))\n",
    "front_face_detector = dlib.get_frontal_face_detector()\n",
    "lmark_predictor = dlib.shape_predictor(pwd + '/dlib_model/shape_predictor_68_face_landmarks.dat')"
   ]
  },
  {
   "cell_type": "code",
   "execution_count": 12,
   "metadata": {},
   "outputs": [],
   "source": [
    "def im_test(net, im):\n",
    "    face_info = lib.align(im[:, :, (2,1,0)], front_face_detector, lmark_predictor)\n",
    "    # Samples\n",
    "    if len(face_info) != 1:\n",
    "        prob = -1\n",
    "    else:\n",
    "        _, point = face_info[0]\n",
    "        rois = []\n",
    "        for i in range(sample_num):\n",
    "            roi, _ = lib.cut_head([im], point, i)\n",
    "            rois.append(cv2.resize(roi[0], (50, 224)))\n",
    "\n",
    "        # vis_ = np.concatenate(rois, 1)\n",
    "        # cv2.imwrite('vis.jpg', vis_)\n",
    "\n",
    "        bgr_mean = np.array([103.939, 116.779, 123.68])\n",
    "        bgr_mean = bgr_mean[np.newaxis, :, np.newaxis, np.newaxis]\n",
    "        bgr_mean = torch.from_numpy(bgr_mean).float().cuda()\n",
    "\n",
    "        rois = torch.from_numpy(np.array(rois)).float().cuda()\n",
    "        rois = rois.permute((0, 3, 1, 2))\n",
    "        prob = net(rois - bgr_mean)\n",
    "        prob = F.softmax(prob, dim=1)\n",
    "        prob = prob.data.cpu().numpy()\n",
    "        prob = 1 - np.mean(np.sort(prob[:, 0])[np.round(sample_num / 2).astype(int):])\n",
    "    return prob, face_info\n",
    "\n",
    "\n",
    "def draw_face_score(im, face_info, prob):\n",
    "    if len(face_info) == 0:\n",
    "        return im\n",
    "\n",
    "    _, points = np.array(face_info[0])\n",
    "    x1 = np.min(points[:, 0])\n",
    "    x2 = np.max(points[:, 0])\n",
    "    y1 = np.min(points[:, 1])\n",
    "    y2 = np.max(points[:, 1])\n",
    "\n",
    "    # Real: (0, 255, 0), Fake: (0, 0, 255)\n",
    "    color = (0, prob * 255, (1 - prob) * 255)\n",
    "    cv2.rectangle(im, (x1, y1), (x2, y2), color, 10)\n",
    "    font = cv2.FONT_HERSHEY_SIMPLEX\n",
    "    cv2.putText(im, '{:.3f}'.format(prob), (x1, y1 - 10), font, 1, color, 3, cv2.LINE_AA)\n",
    "    return im\n",
    "    \n",
    "\n",
    "\n"
   ]
  },
  {
   "cell_type": "code",
   "execution_count": 15,
   "metadata": {},
   "outputs": [
    {
     "name": "stdout",
     "output_type": "stream",
     "text": [
      "=> loading checkpoint 'ckpt/SPP-res50.pth'\n",
      "=> loaded checkpoint 'ckpt/SPP-res50.pth' (epoch 49)\n",
      "Testing: ../icpr2020dfdc/output/celebdf/faces/Celeb-synthesis/id0_id1_0000.mp4/fr075_subj0.jpg\n"
     ]
    },
    {
     "ename": "SyntaxError",
     "evalue": "'return' outside function (<ipython-input-15-a47d7bc70ddc>, line 35)",
     "output_type": "error",
     "traceback": [
      "\u001b[0;36m  File \u001b[0;32m\"<ipython-input-15-a47d7bc70ddc>\"\u001b[0;36m, line \u001b[0;32m35\u001b[0m\n\u001b[0;31m    return probs\u001b[0m\n\u001b[0m    ^\u001b[0m\n\u001b[0;31mSyntaxError\u001b[0m\u001b[0;31m:\u001b[0m 'return' outside function\n"
     ]
    }
   ],
   "source": [
    "net = SPPNet(backbone=50, num_class=2)\n",
    "#net = net.cuda()\n",
    "net.eval()\n",
    "model_path = os.path.join('ckpt/', 'SPP-res50.pth')\n",
    "if os.path.isfile(model_path):\n",
    "    print(\"=> loading checkpoint '{}'\".format(model_path))\n",
    "    checkpoint = torch.load(model_path, map_location=torch.device('cpu'))\n",
    "    start_epoch = checkpoint['epoch']\n",
    "    net.load_state_dict(checkpoint['net'])\n",
    "    print(\"=> loaded checkpoint '{}' (epoch {})\"\n",
    "          .format(model_path, start_epoch))\n",
    "else:\n",
    "    raise ValueError(\"=> no checkpoint found at '{}'\".format(model_path))\n",
    "\n",
    "f_path = '../icpr2020dfdc/output/celebdf/faces/Celeb-synthesis/id0_id1_0000.mp4/fr075_subj0.jpg'\n",
    "print('Testing: ' + f_path)\n",
    "suffix = f_path.split('.')[-1]\n",
    "if suffix.lower() in ['jpg', 'png', 'jpeg', 'bmp', 'tif', 'nef', 'raf']:\n",
    "    im = cv2.imread(f_path)\n",
    "    if im is None:\n",
    "        prob = -1\n",
    "    else:\n",
    "        prob, face_info = im_test(net, im)\n",
    "    print(prob)\n",
    "\n",
    "elif suffix.lower() in ['mp4', 'avi', 'mov']:\n",
    "    # Parse video\n",
    "    imgs, frame_num, fps, width, height = pv.parse_vid(f_path)\n",
    "    probs = []\n",
    "    for fid, im in enumerate(imgs):\n",
    "        print('Frame: ' + str(fid))\n",
    "        prob, face_info = im_test(net, im)\n",
    "        probs.append(prob)\n",
    "\n",
    "    print(probs)\n",
    "\n",
    "\n",
    "#if __name__ == '__main__':\n",
    "#    import argparse\n",
    "#    parser = argparse.ArgumentParser()\n",
    "#    parser.add_argument('--input', type=str, default='')\n",
    "#    parser.add_argument('--arch', type=str, default='resnet',\n",
    "#                        help='VGG, ResNet, SqueezeNet, DenseNet, InceptionNet')\n",
    "#    parser.add_argument('--layers', type=int, default='50')\n",
    "#    parser.add_argument('--input_size', type=int, default=224)\n",
    "#    parser.add_argument('--save_dir', type=str, default='')\n",
    "#    parser.add_argument('--ckpt_name', type=str, default='')"
   ]
  },
  {
   "cell_type": "code",
   "execution_count": null,
   "metadata": {},
   "outputs": [],
   "source": []
  }
 ],
 "metadata": {
  "kernelspec": {
   "display_name": "Python 3",
   "language": "python",
   "name": "python3"
  },
  "language_info": {
   "codemirror_mode": {
    "name": "ipython",
    "version": 3
   },
   "file_extension": ".py",
   "mimetype": "text/x-python",
   "name": "python",
   "nbconvert_exporter": "python",
   "pygments_lexer": "ipython3",
   "version": "3.8.2"
  }
 },
 "nbformat": 4,
 "nbformat_minor": 4
}
